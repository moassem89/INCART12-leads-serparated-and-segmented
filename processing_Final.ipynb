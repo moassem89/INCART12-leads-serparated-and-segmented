{
  "nbformat": 4,
  "nbformat_minor": 0,
  "metadata": {
    "kernelspec": {
      "name": "python3",
      "display_name": "Python 3",
      "language": "python"
    },
    "language_info": {
      "name": "python",
      "version": "3.7.6",
      "mimetype": "text/x-python",
      "codemirror_mode": {
        "name": "ipython",
        "version": 3
      },
      "pygments_lexer": "ipython3",
      "nbconvert_exporter": "python",
      "file_extension": ".py"
    },
    "colab": {
      "name": "preprocessing-Final.ipynb",
      "provenance": []
    }
  },
  "cells": [
    {
      "cell_type": "markdown",
      "metadata": {
        "id": "LadYNL8o34Xx"
      },
      "source": [
        "Our code here is inspired by https://github.com/andrewwlong/deep_arrhythmias/blob/master/Arrythmia%20Project.ipynb, yet ours is quite different in the segmentation technique"
      ]
    },
    {
      "cell_type": "code",
      "metadata": {
        "colab": {
          "base_uri": "https://localhost:8080/"
        },
        "id": "2tTaWYNEq_Uo",
        "outputId": "d3732cc5-3bfa-4c68-e928-80adbd963c67"
      },
      "source": [
        "pip install wfdb # to read wave signal data bases"
      ],
      "execution_count": 1,
      "outputs": [
        {
          "output_type": "stream",
          "text": [
            "Collecting wfdb\n",
            "\u001b[?25l  Downloading https://files.pythonhosted.org/packages/b1/a0/922d06ec737e219a9f45545432842e68a84e8b52f292704056eea1d35e41/wfdb-3.1.1.tar.gz (113kB)\n",
            "\r\u001b[K     |██▉                             | 10kB 16.7MB/s eta 0:00:01\r\u001b[K     |█████▊                          | 20kB 21.4MB/s eta 0:00:01\r\u001b[K     |████████▋                       | 30kB 12.4MB/s eta 0:00:01\r\u001b[K     |███████████▌                    | 40kB 9.5MB/s eta 0:00:01\r\u001b[K     |██████████████▍                 | 51kB 4.9MB/s eta 0:00:01\r\u001b[K     |█████████████████▎              | 61kB 5.5MB/s eta 0:00:01\r\u001b[K     |████████████████████▏           | 71kB 5.6MB/s eta 0:00:01\r\u001b[K     |███████████████████████         | 81kB 6.2MB/s eta 0:00:01\r\u001b[K     |██████████████████████████      | 92kB 6.1MB/s eta 0:00:01\r\u001b[K     |████████████████████████████▉   | 102kB 6.7MB/s eta 0:00:01\r\u001b[K     |███████████████████████████████▊| 112kB 6.7MB/s eta 0:00:01\r\u001b[K     |████████████████████████████████| 122kB 6.7MB/s \n",
            "\u001b[?25hRequirement already satisfied: certifi>=2016.8.2 in /usr/local/lib/python3.6/dist-packages (from wfdb) (2020.12.5)\n",
            "Requirement already satisfied: chardet>=3.0.0 in /usr/local/lib/python3.6/dist-packages (from wfdb) (3.0.4)\n",
            "Requirement already satisfied: cycler>=0.10.0 in /usr/local/lib/python3.6/dist-packages (from wfdb) (0.10.0)\n",
            "Requirement already satisfied: idna>=2.2 in /usr/local/lib/python3.6/dist-packages (from wfdb) (2.10)\n",
            "Requirement already satisfied: joblib>=0.11 in /usr/local/lib/python3.6/dist-packages (from wfdb) (0.17.0)\n",
            "Requirement already satisfied: kiwisolver>=1.1.0 in /usr/local/lib/python3.6/dist-packages (from wfdb) (1.3.1)\n",
            "Requirement already satisfied: matplotlib>=2.0.0 in /usr/local/lib/python3.6/dist-packages (from wfdb) (3.2.2)\n",
            "Collecting mne>=0.18.0\n",
            "\u001b[?25l  Downloading https://files.pythonhosted.org/packages/4d/0e/6448521738d3357c205795fd5846d023bd7935bb83ba93a1ba0f7124205e/mne-0.21.2-py3-none-any.whl (6.8MB)\n",
            "\u001b[K     |████████████████████████████████| 6.8MB 7.4MB/s \n",
            "\u001b[?25hCollecting nose>=1.3.7\n",
            "\u001b[?25l  Downloading https://files.pythonhosted.org/packages/15/d8/dd071918c040f50fa1cf80da16423af51ff8ce4a0f2399b7bf8de45ac3d9/nose-1.3.7-py3-none-any.whl (154kB)\n",
            "\u001b[K     |████████████████████████████████| 163kB 47.7MB/s \n",
            "\u001b[?25hRequirement already satisfied: numpy>=1.10.1 in /usr/local/lib/python3.6/dist-packages (from wfdb) (1.18.5)\n",
            "Requirement already satisfied: pandas>=0.17.0 in /usr/local/lib/python3.6/dist-packages (from wfdb) (1.1.5)\n",
            "Requirement already satisfied: pyparsing>=2.0.4 in /usr/local/lib/python3.6/dist-packages (from wfdb) (2.4.7)\n",
            "Requirement already satisfied: python-dateutil>=2.4.2 in /usr/local/lib/python3.6/dist-packages (from wfdb) (2.8.1)\n",
            "Requirement already satisfied: pytz>=2018.3 in /usr/local/lib/python3.6/dist-packages (from wfdb) (2018.9)\n",
            "Requirement already satisfied: requests>=2.8.1 in /usr/local/lib/python3.6/dist-packages (from wfdb) (2.23.0)\n",
            "Requirement already satisfied: scikit-learn>=0.18 in /usr/local/lib/python3.6/dist-packages (from wfdb) (0.22.2.post1)\n",
            "Requirement already satisfied: scipy>=0.17.0 in /usr/local/lib/python3.6/dist-packages (from wfdb) (1.4.1)\n",
            "Requirement already satisfied: six>=0.9.0 in /usr/local/lib/python3.6/dist-packages (from wfdb) (1.15.0)\n",
            "Requirement already satisfied: sklearn>=0.0 in /usr/local/lib/python3.6/dist-packages (from wfdb) (0.0)\n",
            "Collecting threadpoolctl>=1.0.0\n",
            "  Downloading https://files.pythonhosted.org/packages/f7/12/ec3f2e203afa394a149911729357aa48affc59c20e2c1c8297a60f33f133/threadpoolctl-2.1.0-py3-none-any.whl\n",
            "Requirement already satisfied: urllib3>=1.22 in /usr/local/lib/python3.6/dist-packages (from wfdb) (1.24.3)\n",
            "Building wheels for collected packages: wfdb\n",
            "  Building wheel for wfdb (setup.py) ... \u001b[?25l\u001b[?25hdone\n",
            "  Created wheel for wfdb: filename=wfdb-3.1.1-cp36-none-any.whl size=117829 sha256=bc2d82ffff1105c322d52c0eac2309b2d14a52ec84c3299e13f2c2e285661bdc\n",
            "  Stored in directory: /root/.cache/pip/wheels/bc/d0/c1/90538d266ccba2d1076fbc9970192c7ea1a09c99df3e65c69b\n",
            "Successfully built wfdb\n",
            "Installing collected packages: mne, nose, threadpoolctl, wfdb\n",
            "Successfully installed mne-0.21.2 nose-1.3.7 threadpoolctl-2.1.0 wfdb-3.1.1\n"
          ],
          "name": "stdout"
        }
      ]
    },
    {
      "cell_type": "code",
      "metadata": {
        "colab": {
          "base_uri": "https://localhost:8080/"
        },
        "id": "pdm_nlCOrOYs",
        "outputId": "33f09223-e7f1-468d-effa-a0f6c07002b1"
      },
      "source": [
        "from google.colab import drive\r\n",
        "drive.mount('/content/drive')"
      ],
      "execution_count": 2,
      "outputs": [
        {
          "output_type": "stream",
          "text": [
            "Mounted at /content/drive\n"
          ],
          "name": "stdout"
        }
      ]
    },
    {
      "cell_type": "code",
      "metadata": {
        "_uuid": "8f2839f25d086af736a60e9eeb907d3b93b6e0e5",
        "_cell_guid": "b1076dfc-b9ad-4769-8c92-a6c4dae69d19",
        "trusted": true,
        "id": "mGVIFjWPq3mQ"
      },
      "source": [
        "import numpy as np # linear algebra\n",
        "import pandas as pd # data processing, CSV file I/O (e.g. pd.read_csv)\n",
        "import matplotlib.pyplot as plt\n",
        "import math\n",
        "from scipy import signal\n",
        "from scipy.signal import savgol_filter\n",
        "\n",
        "import wfdb # "
      ],
      "execution_count": 31,
      "outputs": []
    },
    {
      "cell_type": "code",
      "metadata": {
        "_uuid": "d629ff2d2480ee46fbb7e2d37f6b5fab8052498a",
        "_cell_guid": "79c7e3d0-c299-4dcb-8224-4455121ee9b0",
        "trusted": true,
        "id": "2ry-ncJCq3mW"
      },
      "source": [
        "data_path = '/content/drive/MyDrive/Colab Notebooks/INCART12/I'\n",
        "\n",
        "pts = [] # to collect patients ids\n",
        "\n",
        "for pt in range(1,76):\n",
        "    if pt <10:\n",
        "        pts.append('0'+str(pt))\n",
        "    else:\n",
        "        pts.append(str(pt))"
      ],
      "execution_count": 4,
      "outputs": []
    },
    {
      "cell_type": "code",
      "metadata": {
        "trusted": true,
        "colab": {
          "base_uri": "https://localhost:8080/"
        },
        "id": "9rlWxYqEq3mW",
        "outputId": "db790d4f-b839-4730-c321-a00600cf7f83"
      },
      "source": [
        "len(pts) # number of patients"
      ],
      "execution_count": 5,
      "outputs": [
        {
          "output_type": "execute_result",
          "data": {
            "text/plain": [
              "75"
            ]
          },
          "metadata": {
            "tags": []
          },
          "execution_count": 5
        }
      ]
    },
    {
      "cell_type": "code",
      "metadata": {
        "trusted": true,
        "id": "Qdkqk8-sq3mX"
      },
      "source": [
        "df = pd.DataFrame()  # to collect the signals data\n",
        "\n",
        "for pt in pts:\n",
        "    file = data_path + pt\n",
        "    annotation = wfdb.rdann(file, 'atr')\n",
        "    sym = annotation.symbol\n",
        "    \n",
        "    values, counts = np.unique(sym, return_counts=True)\n",
        "    df_sub = pd.DataFrame({'sym':values, 'val':counts, 'pt':[pt]*len(counts)})\n",
        "    df = pd.concat([df, df_sub],axis = 0)"
      ],
      "execution_count": 6,
      "outputs": []
    },
    {
      "cell_type": "markdown",
      "metadata": {
        "id": "WM1rdrDgq3mY"
      },
      "source": [
        "Take a look at the annotations we have"
      ]
    },
    {
      "cell_type": "code",
      "metadata": {
        "trusted": true,
        "colab": {
          "base_uri": "https://localhost:8080/"
        },
        "id": "20IiMgrbq3mY",
        "outputId": "2ea7fbde-db5f-404d-9a20-b9b29e922f39"
      },
      "source": [
        "df.groupby('sym').val.sum().sort_values(ascending = False)"
      ],
      "execution_count": 7,
      "outputs": [
        {
          "output_type": "execute_result",
          "data": {
            "text/plain": [
              "sym\n",
              "N    150410\n",
              "V     20013\n",
              "R      3174\n",
              "A      1944\n",
              "F       219\n",
              "j        92\n",
              "n        32\n",
              "S        16\n",
              "+        12\n",
              "Q         6\n",
              "B         1\n",
              "Name: val, dtype: int64"
            ]
          },
          "metadata": {
            "tags": []
          },
          "execution_count": 7
        }
      ]
    },
    {
      "cell_type": "code",
      "metadata": {
        "trusted": true,
        "id": "tqYJ4jfYq3mY"
      },
      "source": [
        "# list of abnormal beats from physionet, we just use it for the plot below\n",
        "#nonbeat = ['[','!',']','x','(',')','p','t','u','`',\n",
        " #          '\\'','^','|','~','+','s','T','*','D','=','\"','@','Q','?']\n",
        "abnormal = ['L','R','V','/','A','f','F','j','a','E','J','e','S']"
      ],
      "execution_count": 15,
      "outputs": []
    },
    {
      "cell_type": "code",
      "metadata": {
        "trusted": true,
        "id": "v0gprYneq3mZ"
      },
      "source": [
        "#Let's write a function for loading a single patient's signals and annotations. Note the annotation values are the indices of the signal array.\n",
        "\n",
        "def load_ecg(file):\n",
        "    # load the ecg\n",
        "    # example file: 'mit-bih-arrhythmia-database-1.0.0/101'\n",
        "    \n",
        "    # load the ecg\n",
        "    record = wfdb.rdrecord(file)\n",
        "    # load the annotation\n",
        "    annotation = wfdb.rdann(file, 'atr')\n",
        "    \n",
        "    # extract the signal\n",
        "    p_signal = record.p_signal\n",
        "    \n",
        "    # verify frequency is fs = 257\n",
        "    assert record.fs == 257, 'sample freq is not 257'\n",
        "    \n",
        "    # extract symbols and annotation index\n",
        "    atr_sym = annotation.symbol\n",
        "    atr_sample = annotation.sample\n",
        "    \n",
        "    return p_signal, atr_sym, atr_sample"
      ],
      "execution_count": 9,
      "outputs": []
    },
    {
      "cell_type": "markdown",
      "metadata": {
        "id": "bn6z8OiJq3mZ"
      },
      "source": [
        "Let's check out what abnormal beats are in a patient's ecg:"
      ]
    },
    {
      "cell_type": "code",
      "metadata": {
        "trusted": true,
        "id": "H2ql8HTOq3mZ"
      },
      "source": [
        "file = data_path + pts[0]"
      ],
      "execution_count": 10,
      "outputs": []
    },
    {
      "cell_type": "code",
      "metadata": {
        "trusted": true,
        "id": "DpCntyC7q3mZ"
      },
      "source": [
        "p_signal, atr_sym, atr_sample = load_ecg(file)"
      ],
      "execution_count": 11,
      "outputs": []
    },
    {
      "cell_type": "code",
      "metadata": {
        "trusted": true,
        "colab": {
          "base_uri": "https://localhost:8080/"
        },
        "id": "HB_BN3cYq3ma",
        "outputId": "43ba1913-ebc0-414d-f60b-a38bc2cf7db4"
      },
      "source": [
        "np.shape(p_signal)"
      ],
      "execution_count": 12,
      "outputs": [
        {
          "output_type": "execute_result",
          "data": {
            "text/plain": [
              "(462600, 12)"
            ]
          },
          "metadata": {
            "tags": []
          },
          "execution_count": 12
        }
      ]
    },
    {
      "cell_type": "markdown",
      "metadata": {
        "id": "4Qwtr14nsTpO"
      },
      "source": [
        "As we can see, 12 leads or channels"
      ]
    },
    {
      "cell_type": "code",
      "metadata": {
        "trusted": true,
        "colab": {
          "base_uri": "https://localhost:8080/"
        },
        "id": "X6nweqQMq3ma",
        "outputId": "ef9fa727-d77f-46e0-8e4d-b0eee97a0687"
      },
      "source": [
        "# get abnormal beat index to show on plot\n",
        "\n",
        "ab_index = [b for a,b in zip(atr_sym,atr_sample) if a in abnormal][:10]\n",
        "ab_index"
      ],
      "execution_count": 16,
      "outputs": [
        {
          "output_type": "execute_result",
          "data": {
            "text/plain": [
              "[710, 2656, 5263, 8541, 10895, 16053, 17328, 18130, 18934, 22275]"
            ]
          },
          "metadata": {
            "tags": []
          },
          "execution_count": 16
        }
      ]
    },
    {
      "cell_type": "code",
      "metadata": {
        "trusted": true,
        "id": "hgffHtC5q3ma"
      },
      "source": [
        "x = np.arange(len(p_signal))"
      ],
      "execution_count": 17,
      "outputs": []
    },
    {
      "cell_type": "code",
      "metadata": {
        "trusted": true,
        "colab": {
          "base_uri": "https://localhost:8080/",
          "height": 279
        },
        "id": "UNXSWUqfq3ma",
        "outputId": "d29dc545-0dcb-42e5-879f-8b035f6ebdb2"
      },
      "source": [
        "left = ab_index[1]-1285 # 5s before first abnormal beat\n",
        "right = ab_index[1]+1285 #5s after\n",
        "\n",
        "plt.plot(x[left:right],p_signal[left:right,0],'-',label='ecg',)\n",
        "plt.plot(x[atr_sample],p_signal[atr_sample,0],'go',label ='normal')\n",
        "plt.plot(x[ab_index],p_signal[ab_index,0],'ro',label='abnormal')\n",
        "\n",
        "plt.xlim(left,right)\n",
        "plt.ylim(p_signal[left:right].min()-0.05,p_signal[left:right,0].max()+0.05)\n",
        "plt.xlabel('time index')\n",
        "plt.ylabel('ECG signal')\n",
        "plt.legend(bbox_to_anchor = (1.04,1), loc = 'upper left')\n",
        "plt.show()"
      ],
      "execution_count": 19,
      "outputs": [
        {
          "output_type": "display_data",
          "data": {
            "image/png": "[encoded data removed]",
            "text/plain": [
              "<Figure size 432x288 with 1 Axes>"
            ]
          },
          "metadata": {
            "tags": [],
            "needs_background": "light"
          }
        }
      ]
    },
    {
      "cell_type": "markdown",
      "metadata": {
        "id": "7AkQ1YAisvgk"
      },
      "source": [
        "As we can see, not normalized. Note that the circles are at the R peaks (atr_sample)"
      ]
    },
    {
      "cell_type": "code",
      "metadata": {
        "colab": {
          "base_uri": "https://localhost:8080/",
          "height": 279
        },
        "id": "us_VSXmCtDyW",
        "outputId": "7fb7485b-d79b-4f09-ed17-2c451d8b6740"
      },
      "source": [
        "# Let's see how it looks when normalized\r\n",
        "\r\n",
        "p_normal = (p_signal[left:right,0] - p_signal[left:right,0].min()) / (p_signal[left:right,0].max() - p_signal[left:right,0].min())\r\n",
        "atr_window = atr_sample[left:right]\r\n",
        "plt.plot(x[left:right],p_normal,'-',label='ecg',)\r\n",
        "\r\n",
        "\r\n",
        "plt.xlim(left,right)\r\n",
        "plt.ylim(p_normal.min()-0.05,p_normal.max()+0.05)\r\n",
        "plt.xlabel('time index')\r\n",
        "plt.ylabel('ECG signal')\r\n",
        "\r\n",
        "plt.show()"
      ],
      "execution_count": 23,
      "outputs": [
        {
          "output_type": "display_data",
          "data": {
            "image/png": "[encoded data removed]",
            "text/plain": [
              "<Figure size 432x288 with 1 Axes>"
            ]
          },
          "metadata": {
            "tags": [],
            "needs_background": "light"
          }
        }
      ]
    },
    {
      "cell_type": "markdown",
      "metadata": {
        "id": "gWGKGeNjq3mb"
      },
      "source": [
        "Let's make our dataset"
      ]
    },
    {
      "cell_type": "code",
      "metadata": {
        "trusted": true,
        "id": "VV_FuQlEq3mb"
      },
      "source": [
        "def make_dataset(num_cols,pts,lead, num_sec, fs, fs_down):\n",
        "    # function for making dataset ignoring non-beats\n",
        "    # input:\n",
        "    # a predefined width enough to capture any [R, R+1.2*T] interval\n",
        "    # pts - list of patients\n",
        "    # num_sec = number of seconds to include before and after the beat\n",
        "    # fs = frequency (we take 257Hz as the data were collected accordingly)\n",
        "    # output: \n",
        "    #   X_all = signal (nbeats , num_sec * fs columns)\n",
        "    #   Y_all = beat annotation symbol (nbeats,1)\n",
        "    \n",
        "    # initialize numpy arrays\n",
        "    \n",
        "    X_all = np.zeros((1,num_cols))\n",
        "    Y_all = []\n",
        "    \n",
        "    window_width = fs*num_sec\n",
        "    \n",
        "    for pt in pts:\n",
        "        p_signal, atr_sym, atr_sample = load_ecg(data_path + str(pt))\n",
        "        \n",
        "        # grab a lead signal\n",
        "        p_signal_lead = p_signal[:,lead]\n",
        "         \n",
        "        # exclude the nonbeats  \n",
        "        #df_ann = pd.DataFrame({'atr_sym':atr_sym,\n",
        "         #                       'atr_sample':atr_sample})\n",
        "        #df_ann = df_ann.loc[df_ann.atr_sym.isin(abnormal + ['N'])]\n",
        "            \n",
        "        begin_window = 0 #point at which we start/end a window (of length num_sec seconds)\n",
        "\n",
        "        while begin_window  < len(p_signal_lead):\n",
        "            \n",
        "            end_window = begin_window + window_width\n",
        "            \n",
        "            r_in_window = np.where((atr_sample >= begin_window) & (atr_sample < end_window)) #indices of R peaks in the window\n",
        "            p_window = p_signal_lead[begin_window: end_window] #we use this for normalization\n",
        "            # we can quickly compute the segment size\n",
        "            atr_sample_window = atr_sample[r_in_window] #the R peak points of that window\n",
        "            segment_size = math.ceil(1.2*np.median(atr_sample_window[1:] - np.roll(atr_sample_window,1)[1:])) #interval width\n",
        "\n",
        "            begin_window = end_window #we don't need begin_window for this loop anymore so we set it for the next loop\n",
        "\n",
        "            X,Y = build_XY(p_signal_lead,p_window,segment_size,atr_sample,atr_sym,r_in_window, num_cols, fs, fs_down)\n",
        "            \n",
        "            X_all = np.append(X_all,X,axis = 0)\n",
        "            Y_all = Y_all+Y\n",
        "            \n",
        "                \n",
        "    # drop the first zero row\n",
        "    X_all = X_all[1:,:]\n",
        "\n",
        "    return X_all, Y_all \n",
        "\n",
        "######################\n",
        "\n",
        "def build_XY(p_signal_lead,p_window,segment_size,atr_sample,atr_sym,r_in_window, num_cols, fs, fs_down):\n",
        "    # this function builds the X,Y matrices for each beat\n",
        "    # it also returns the original symbols for Y\n",
        "    \n",
        "    num_rows = len(r_in_window[0]) # that r_in_window is a tuple (ordered pair)\n",
        "    \n",
        "    X = np.zeros((num_rows, num_cols))\n",
        "    Y = []\n",
        "\n",
        "    for index in range(num_rows):\n",
        "        \n",
        "        r_in_window_index = r_in_window[0][index]\n",
        "        \n",
        "        left = atr_sample[r_in_window_index]\n",
        "        right = left + segment_size\n",
        "\n",
        "        # put the [R,R+1.2*T] interval as a row in X, but first downsample (to 125 Hz)\n",
        "        signal_vector = p_signal_lead[left: right]\n",
        "\n",
        "        downsample_size = math.floor(len(signal_vector) * fs_down/fs)\n",
        "\n",
        "        signal_vector_downsampled  = signal.resample(signal_vector, downsample_size)\n",
        "\n",
        "        X[index,:downsample_size] =  savgol_filter((signal_vector_downsampled - p_window.min())/(p_window.max() - p_window.min()),9,2)  # you may chose not to make that scaling/shifting if your modeling puposes do require\n",
        "        #we chose to scale this way just to be as close as possible to the desciption in the paper!\n",
        "        #Preprocessed data we found seem to be smoothened\n",
        "\n",
        "        Y += [atr_sym[r_in_window_index]]\n",
        "\n",
        "\n",
        "    return X,Y "
      ],
      "execution_count": 33,
      "outputs": []
    },
    {
      "cell_type": "code",
      "metadata": {
        "trusted": true,
        "id": "xpIBMr-xq3mb"
      },
      "source": [
        "num_sec = 10\n",
        "fs = 257\n",
        "fs_down = 125\n",
        "lead = 0\n",
        "\n",
        "num_cols = 251 # found by trial and error"
      ],
      "execution_count": 34,
      "outputs": []
    },
    {
      "cell_type": "markdown",
      "metadata": {
        "id": "ngpOiX9ByUzU"
      },
      "source": [
        "Before proceeding to this code, be warned that it may crash your RAMS because of how huge the tables are. We have a fix for that in the cell after"
      ]
    },
    {
      "cell_type": "code",
      "metadata": {
        "id": "FPh74u0GyeNn"
      },
      "source": [
        "X_all, Y_all = make_dataset(num_cols,pts,lead, num_sec, fs, fs_down)"
      ],
      "execution_count": null,
      "outputs": []
    },
    {
      "cell_type": "markdown",
      "metadata": {
        "id": "Wncs1dEOynVb"
      },
      "source": [
        "If the code above takes forever (huge table), or crashes the RAM, do build mini portions of it (patient 1-10, 11-20,..) then glue them together by vstack. This is how we did it (written below at the end). Also this had the benefit to confirm that the code was not taking long due to any bugs."
      ]
    },
    {
      "cell_type": "code",
      "metadata": {
        "trusted": true,
        "id": "HB_flNSDq3mc"
      },
      "source": [
        "X_all, Y_all = make_dataset(num_cols,pts[0:10],lead, num_sec, fs, fs_down)"
      ],
      "execution_count": 35,
      "outputs": []
    },
    {
      "cell_type": "code",
      "metadata": {
        "id": "SslKsPPPyqJN"
      },
      "source": [
        "X_all2, Y_all2 = make_dataset(num_cols,pts[10:20],lead, num_sec, fs, fs_down)"
      ],
      "execution_count": 38,
      "outputs": []
    },
    {
      "cell_type": "code",
      "metadata": {
        "id": "ukWgGJ9fy2kA"
      },
      "source": [
        "X_all3, Y_all3 = make_dataset(num_cols,pts[20:30],lead, num_sec, fs, fs_down)"
      ],
      "execution_count": 39,
      "outputs": []
    },
    {
      "cell_type": "code",
      "metadata": {
        "id": "9cbZcskiy4_y"
      },
      "source": [
        "X_all4, Y_all4 = make_dataset(num_cols,pts[30:40],lead, num_sec, fs, fs_down)"
      ],
      "execution_count": 40,
      "outputs": []
    },
    {
      "cell_type": "code",
      "metadata": {
        "id": "rJ9RqOOqy7SA"
      },
      "source": [
        "X_all5, Y_all5 = make_dataset(num_cols,pts[40:50],lead, num_sec, fs, fs_down)"
      ],
      "execution_count": 41,
      "outputs": []
    },
    {
      "cell_type": "code",
      "metadata": {
        "id": "zZRLBsiJy_yX"
      },
      "source": [
        "X_all6, Y_all6 = make_dataset(num_cols,pts[50:60],lead, num_sec, fs, fs_down)"
      ],
      "execution_count": 42,
      "outputs": []
    },
    {
      "cell_type": "code",
      "metadata": {
        "id": "EEkXP5AAzEkv"
      },
      "source": [
        "X_all7, Y_all7 = make_dataset(num_cols,pts[60:70],lead, num_sec, fs, fs_down)"
      ],
      "execution_count": 43,
      "outputs": []
    },
    {
      "cell_type": "code",
      "metadata": {
        "id": "tr42Z8lmzGHY"
      },
      "source": [
        "X_all8,  Y_all8 = make_dataset(num_cols,pts[70:],lead, num_sec, fs, fs_down)"
      ],
      "execution_count": 44,
      "outputs": []
    },
    {
      "cell_type": "code",
      "metadata": {
        "id": "XHxQwkVQzKDZ"
      },
      "source": [
        "XX = np.vstack((X_all,X_all2))\r\n",
        "XX = np.vstack((XX,X_all3))\r\n",
        "XX = np.vstack((XX,X_all4))\r\n",
        "XX = np.vstack((XX,X_all5))\r\n",
        "XX = np.vstack((XX,X_all6))\r\n",
        "XX = np.vstack((XX,X_all7))\r\n",
        "XX = np.vstack((XX,X_all8))"
      ],
      "execution_count": 45,
      "outputs": []
    },
    {
      "cell_type": "code",
      "metadata": {
        "id": "T-MG8QqzzLKu"
      },
      "source": [
        "YY = np.hstack((Y_all,Y_all2))\r\n",
        "YY = np.hstack((YY,Y_all3))\r\n",
        "YY = np.hstack((YY,Y_all4))\r\n",
        "YY = np.hstack((YY,Y_all5))\r\n",
        "YY = np.hstack((YY,Y_all6))\r\n",
        "YY = np.hstack((YY,Y_all7))\r\n",
        "YY = np.hstack((YY,Y_all8))"
      ],
      "execution_count": 46,
      "outputs": []
    },
    {
      "cell_type": "code",
      "metadata": {
        "id": "z3Yps86NzODc"
      },
      "source": [
        "dfX = pd.DataFrame(XX,index = None)"
      ],
      "execution_count": 47,
      "outputs": []
    },
    {
      "cell_type": "code",
      "metadata": {
        "id": "A_swl34JzS-D"
      },
      "source": [
        "dfX.to_csv('/content/drive/MyDrive/Colab Notebooks/INCART12/X_lead0_dws_smoother.csv')"
      ],
      "execution_count": null,
      "outputs": []
    },
    {
      "cell_type": "code",
      "metadata": {
        "id": "dt8VyHDQzToj"
      },
      "source": [
        "YYY= YY.reshape(YY.shape[0],1)"
      ],
      "execution_count": 48,
      "outputs": []
    },
    {
      "cell_type": "code",
      "metadata": {
        "id": "s_WCpTJ5zWIX"
      },
      "source": [
        "dfY = pd.DataFrame(YYY,index = None)\r\n",
        "dfY.to_csv('/content/drive/MyDrive/Colab Notebooks/INCART12/Y_lead0_dws.csv')"
      ],
      "execution_count": null,
      "outputs": []
    },
    {
      "cell_type": "markdown",
      "metadata": {
        "id": "N68zfTlxzY_M"
      },
      "source": [
        "We produced the labels and data points separately because hstacking them takes forever and could crash the RAM."
      ]
    },
    {
      "cell_type": "code",
      "metadata": {
        "colab": {
          "base_uri": "https://localhost:8080/",
          "height": 282
        },
        "id": "v0srw5Mq2Llq",
        "outputId": "036b0363-3e1a-4ff5-fbff-211b5123e1ac"
      },
      "source": [
        "# a plot of one of our data points\r\n",
        "\r\n",
        "plt.plot(range(110),X_all[5,:110])"
      ],
      "execution_count": 51,
      "outputs": [
        {
          "output_type": "execute_result",
          "data": {
            "text/plain": [
              "[<matplotlib.lines.Line2D at 0x7fbe27c1d2e8>]"
            ]
          },
          "metadata": {
            "tags": []
          },
          "execution_count": 51
        },
        {
          "output_type": "display_data",
          "data": {
            "image/png": "[encoded data removed]",
            "text/plain": [
              "<Figure size 432x288 with 1 Axes>"
            ]
          },
          "metadata": {
            "tags": [],
            "needs_background": "light"
          }
        }
      ]
    },
    {
      "cell_type": "markdown",
      "metadata": {
        "id": "ZdjEANY03LLO"
      },
      "source": [
        "Remark: In the paper on which our project is founded, the find the R peaks not using atr_sample (which they seemd not to have available). They found those peaks by hunting for signal points that are above 0.9. In what follows, we show the mofications of our functions which implement that approach."
      ]
    },
    {
      "cell_type": "code",
      "metadata": {
        "trusted": true,
        "id": "MfjKoPiw4Yif"
      },
      "source": [
        "def make_dataset(num_cols,pts,lead, num_sec, fs, fs_down):\n",
        "    # function for making dataset ignoring non-beats\n",
        "    # input:\n",
        "    # a predefined width enough to capture any [R, R+1.2*T] interval\n",
        "    # pts - list of patients\n",
        "    # num_sec = number of seconds to include before and after the beat\n",
        "    # fs = frequency (we take 257Hz as the data were collected accordingly)\n",
        "    # output: \n",
        "    #   X_all = signal (nbeats , num_sec * fs columns)\n",
        "    #   Y_all = beat annotation symbol (nbeats,1)\n",
        "    \n",
        "    # initialize numpy arrays\n",
        "    \n",
        "    X_all = np.zeros((1,num_cols))\n",
        "    Y_all = []\n",
        "    \n",
        "    window_width = fs*num_sec\n",
        "    \n",
        "    for pt in pts:\n",
        "        p_signal, atr_sym, atr_sample = load_ecg(data_path + str(pt))\n",
        "        \n",
        "        # grab a lead signal\n",
        "        p_signal_lead = p_signal[:,lead]\n",
        "         \n",
        "            \n",
        "        begin_window = 0 #point at which we start/end a window (of length num_sec seconds)\n",
        "\n",
        "        while begin_window  < len(p_signal_lead):\n",
        "            \n",
        "            end_window = begin_window + window_width\n",
        "            \n",
        "            # here are the changes\n",
        "            p_window = p_signal_lead[begin_window: end_window] #we use this for normalization \n",
        "            p_normalized = (p_window - p_window.min())/(p_window.max()-p_window.min())\n",
        "            at_R = np.where(p_normalized >=0.9)[0]\n",
        "            r_in_window = np.where((at_R >= begin_window) & (at_R < end_window))\n",
        "            segment_size = math.ceil(1.2*np.median(at_R[1:] - np.roll(at_R,1)[1:]))\n",
        "\n",
        "            begin_window = end_window #we don't need begin_window for this loop anymore so we set it for the next loop\n",
        "\n",
        "            X,Y = build_XY(p_signal_lead,p_window,segment_size,at_R,atr_sym,r_in_window, num_cols, fs, fs_down)\n",
        "            \n",
        "            X_all = np.append(X_all,X,axis = 0)\n",
        "            Y_all = Y_all+Y\n",
        "            \n",
        "                \n",
        "    # drop the first zero row\n",
        "    X_all = X_all[1:,:]\n",
        "\n",
        "    return X_all, Y_all \n",
        "\n",
        "######################\n",
        "\n",
        "def build_XY(p_signal_lead,p_window,segment_size,at_R,atr_sym,r_in_window, num_cols, fs, fs_down):\n",
        "    # this function builds the X,Y matrices for each beat\n",
        "    # it also returns the original symbols for Y\n",
        "    \n",
        "    num_rows = len(r_in_window[0]) # that r_in_window is a tuple (ordered pair)\n",
        "    \n",
        "    X = np.zeros((num_rows, num_cols))\n",
        "    Y = []\n",
        "\n",
        "    for index in range(num_rows):\n",
        "        \n",
        "        r_in_window_index = r_in_window[0][index]\n",
        "        \n",
        "        left = at_R[r_in_window_index]\n",
        "        right = left + segment_size\n",
        "\n",
        "        # put the [R,R+1.2*T] interval as a row in X, but first downsample (to 125 Hz)\n",
        "        signal_vector = p_signal_lead[left: right]\n",
        "\n",
        "        downsample_size = math.floor(len(signal_vector) * fs_down/fs)\n",
        "\n",
        "        signal_vector_downsampled  = signal.resample(signal_vector, downsample_size)\n",
        "\n",
        "        X[index,:downsample_size] =  savgol_filter((signal_vector_downsampled - p_window.min())/(p_window.max() - p_window.min()),9,2)  # you may chose not to make that scaling/shifting if your modeling puposes do require\n",
        "        #we chose to scale this way just to be as close as possible to the desciption in the paper!\n",
        "        #Preprocessed data we found seem to be smoothened\n",
        "\n",
        "        Y += [atr_sym[r_in_window_index]]\n",
        "\n",
        "\n",
        "    return X,Y "
      ],
      "execution_count": 53,
      "outputs": []
    }
  ]
}